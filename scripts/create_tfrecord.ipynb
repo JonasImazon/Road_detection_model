{
  "cells": [
    {
      "cell_type": "code",
      "source": [
        "import gdal\n",
        "import json\n",
        "import geopandas as gp\n",
        "from tqdm import tqdm\n",
        "import os\n",
        "\n",
        "#Shapefiles referentes aos chips de treinamento (treino, validação e teste)\n",
        "chips_test = gp.GeoDataFrame.from_file(r'F:\\MosaicosTrabalhados\\chips_separation\\training_sets\\test_chips.shp')\n",
        "chips_validation = gp.GeoDataFrame.from_file(r'F:\\MosaicosTrabalhados\\chips_separation\\training_sets\\validation_chips.shp')\n",
        "chips_training = gp.GeoDataFrame.from_file(r'F:\\MosaicosTrabalhados\\chips_separation\\training_sets\\training_chips.shp')\n",
        "\n",
        "#Rasters que serão utilizados para o treinamento da rede\n",
        "ds_input = gdal.Open('F:/MosaicosBlob/mosaic_RGB_2.tif')\n",
        "ds_target = gdal.Open('F:/MosaicosTrabalhados/chips_separation/rasters/estradas_buffered.tif')\n",
        "\n",
        "#Retornar os chips em formato json para facilitar o acesso as informações do dataframe\n",
        "def getFeatures(gdf):\n",
        "    return json.loads(gdf.to_json())[\"features\"]\n",
        "\n",
        "training = getFeatures(chips_training)\n",
        "validation = getFeatures(chips_validation)\n",
        "test = getFeatures(chips_test)\n",
        "\n",
        "#Degub para visualização das coordenadas de chips individuais\n",
        "# xl = test[0][\"geometry\"][\"coordinates\"][0][0][0]\n",
        "# yl = test[0][\"geometry\"][\"coordinates\"][0][0][1]\n",
        "# xr = test[0][\"geometry\"][\"coordinates\"][0][2][0]\n",
        "# yr = test[0][\"geometry\"][\"coordinates\"][0][2][1]\n",
        "\n",
        "# print(xl)\n",
        "# print(yl)\n",
        "# print(xr)\n",
        "# print(yr)\n",
        "\n",
        "def chips_separation(chips_set, set_name):\n",
        "    \n",
        "    set_size = len(chips_set)\n",
        "    \n",
        "    for i in tqdm(range(0, set_size)):\n",
        "        \n",
        "        xl = chips_set[i][\"geometry\"][\"coordinates\"][0][0][0]\n",
        "        yl = chips_set[i][\"geometry\"][\"coordinates\"][0][0][1]\n",
        "        xr = chips_set[i][\"geometry\"][\"coordinates\"][0][2][0]\n",
        "        yr = chips_set[i][\"geometry\"][\"coordinates\"][0][2][1]\n",
        "\n",
        "        try:\n",
        "#             gdal.Translate('F:/MosaicosTrabalhados/data/input/{}_buffered/{}_{}.tif'.format(set_name, set_name, str(i)), ds_input, projWin = [xl,yl,xr,yr])\n",
        "            gdal.Translate('F:/MosaicosTrabalhados/data/target/{}_buffered/{}_{}.tif'.format(set_name, set_name, str(i)), ds_target, projWin = [xl,yl,xr,yr])\n",
        "        except:\n",
        "            print(\"Ocorreu um erro no processo de separação do chip.\")\n",
        "    \n",
        "\n",
        "chips_separation(training, \"training\")\n",
        "chips_separation(validation, \"validation\")\n",
        "chips_separation(test, \"test\")"
      ],
      "outputs": [
        {
          "output_type": "stream",
          "name": "stderr",
          "text": [
            "100%|██████████████████████████████████████████████████████████████████████████████| 2000/2000 [02:58<00:00, 11.22it/s]\n",
            "100%|████████████████████████████████████████████████████████████████████████████████| 250/250 [00:11<00:00, 22.71it/s]\n",
            "100%|████████████████████████████████████████████████████████████████████████████████| 250/250 [00:10<00:00, 24.33it/s]\n"
          ]
        }
      ],
      "execution_count": 1,
      "metadata": {},
      "id": "ed90ef8a"
    },
    {
      "cell_type": "code",
      "source": [
        "from PIL import Image\n",
        "import numpy as np\n",
        "import numexpr as ne\n",
        "import skimage.io as io\n",
        "import tensorflow as tf\n",
        "import gdal\n",
        "import glob\n",
        "\n",
        "def _int64_feature(value):\n",
        "    return tf.train.Feature(int64_list=tf.train.Int64List(value=[value]))\n",
        "\n",
        "def _float_feature(value):\n",
        "    return tf.train.Feature(float_list=tf.train.FloatList(value=value.flatten()))\n",
        "\n",
        "def write_image_annotation_pairs_to_tfrecord(filename_pairs, tfrecords_filename):\n",
        "   \n",
        "    writer = tf.io.TFRecordWriter(tfrecords_filename)\n",
        "    \n",
        "    zero_list = [np.zeros((1)) for x in range(0,255)]\n",
        "    print(\"Começando conversão...\")\n",
        "    \n",
        "    for img_path, annotation_path in list(filename_pairs):\n",
        "        \n",
        "        img = gdal.Open(img_path)\n",
        "        img_b1 = np.array(img.GetRasterBand(1).ReadAsArray()).astype(np.float32())\n",
        "        img_b2 = np.array(img.GetRasterBand(2).ReadAsArray()).astype(np.float32())\n",
        "        img_b3 = np.array(img.GetRasterBand(3).ReadAsArray()).astype(np.float32())\n",
        "        \n",
        "        img_b1 = np.append(np.append(img_b1, zero_list, axis=1), np.zeros((1,256)), axis=0)\n",
        "        img_b2 = np.append(np.append(img_b2, zero_list, axis=1), np.zeros((1,256)), axis=0)\n",
        "        img_b3 = np.append(np.append(img_b3, zero_list, axis=1), np.zeros((1,256)), axis=0)\n",
        "        \n",
        "        def _linear_pct(arr, percent=2, minmax=(0, 255), ndv=None, dtype=np.float32,\n",
        "                **kwargs):\n",
        "           \n",
        "            if isinstance(ndv, (int, float)):\n",
        "                ndv = [ndv]\n",
        "\n",
        "            if ndv:\n",
        "                mask = ~np.in1d(arr, ndv).reshape(arr.shape)\n",
        "                _min, _max = (np.percentile(arr[mask], percent),\n",
        "                              np.percentile(arr[mask], 100 - percent))\n",
        "            else:\n",
        "                _min, _max = (np.percentile(arr, percent),\n",
        "                              np.percentile(arr, 100 - percent))\n",
        "\n",
        "            arr[arr >= _max] = _max\n",
        "            arr[arr <= _min] = _min\n",
        "\n",
        "            scale = (minmax[1] - minmax[0]) / (_max - _min)\n",
        "            offset = minmax[1] - (scale * _max)\n",
        "\n",
        "            return ne.evaluate('arr * scale + offset').astype(dtype)\n",
        "\n",
        "        img_b1= _linear_pct(img_b1).astype(np.uint8())\n",
        "        img_b2= _linear_pct(img_b2).astype(np.uint8())\n",
        "        img_b3= _linear_pct(img_b3).astype(np.uint8())\n",
        "        \n",
        "        annotation = gdal.Open(annotation_path).ReadAsArray()\n",
        "        annotation = np.array(annotation).astype(np.float32())\n",
        "        annotation = np.append(np.append(annotation, zero_list, axis=1), np.zeros((1,256)), axis=0)\n",
        "\n",
        "        example = tf.train.Example(features=tf.train.Features(feature={\n",
        "            'b1': _float_feature(img_b1),\n",
        "            'b2': _float_feature(img_b2),\n",
        "            'b3': _float_feature(img_b3),\n",
        "            'ref': _float_feature(annotation)}))\n",
        "\n",
        "        writer.write(example.SerializeToString())\n",
        "\n",
        "    writer.close()\n",
        "\n",
        "training_paths = zip(glob.glob(r'F:\\MosaicosTrabalhados\\data\\input\\training\\*.tif'), glob.glob(r'F:\\MosaicosTrabalhados\\data\\target\\training_buffered\\*.tif'))\n",
        "validation_paths = zip(glob.glob(r'F:\\MosaicosTrabalhados\\data\\input\\validation\\*.tif'), glob.glob(r'F:\\MosaicosTrabalhados\\data\\target\\validation_buffered\\*.tif'))\n",
        "test_paths = zip(glob.glob(r'F:\\MosaicosTrabalhados\\data\\input\\test\\*.tif'), glob.glob(r'F:\\MosaicosTrabalhados\\data\\target\\test_buffered\\*.tif'))\n",
        "    \n",
        "write_image_annotation_pairs_to_tfrecord(training_paths, r'F:\\MosaicosTrabalhados\\data\\training_buffered_0_255.tfrecord')\n",
        "write_image_annotation_pairs_to_tfrecord(validation_paths, r'F:\\MosaicosTrabalhados\\data\\validation_buffered_0_255.tfrecord')\n",
        "write_image_annotation_pairs_to_tfrecord(test_paths, r'F:\\MosaicosTrabalhados\\data\\test_buffered_0_255.tfrecord')"
      ],
      "outputs": [
        {
          "output_type": "stream",
          "name": "stdout",
          "text": [
            "Começando conversão...\n",
            "Começando conversão...\n",
            "Começando conversão...\n"
          ]
        }
      ],
      "execution_count": 3,
      "metadata": {},
      "id": "40d47df9"
    },
    {
      "cell_type": "code",
      "source": [
        "from azureml.tensorboard import Tensorboard\r\n",
        "\r\n",
        "# The TensorBoard constructor takes an array of runs, so be sure and pass it in as a single-element array here\r\n",
        "tb = Tensorboard([], local_root='./modelo_estradas_v1', port=6001)\r\n",
        "\r\n",
        "# If successful, start() returns a string with the URI of the instance.\r\n",
        "tb.start()"
      ],
      "outputs": [
        {
          "output_type": "stream",
          "name": "stdout",
          "text": [
            "https://treino-estradas-6001.westeurope.instances.azureml.ms\n"
          ]
        },
        {
          "output_type": "execute_result",
          "execution_count": 1,
          "data": {
            "text/plain": "'https://treino-estradas-6001.westeurope.instances.azureml.ms'"
          },
          "metadata": {}
        }
      ],
      "execution_count": 1,
      "metadata": {
        "collapsed": true,
        "jupyter": {
          "source_hidden": false,
          "outputs_hidden": false
        },
        "nteract": {
          "transient": {
            "deleting": false
          }
        },
        "gather": {
          "logged": 1620846811858
        }
      },
      "id": "721c1346-432d-4a81-92b4-17b60fccc054"
    },
    {
      "cell_type": "code",
      "source": [
        "tb.stop()"
      ],
      "outputs": [],
      "execution_count": 2,
      "metadata": {
        "collapsed": true,
        "jupyter": {
          "source_hidden": false,
          "outputs_hidden": false
        },
        "nteract": {
          "transient": {
            "deleting": false
          }
        },
        "gather": {
          "logged": 1620846979532
        }
      },
      "id": "a1cf1ece-ecee-4480-90c2-5d2bd1e1de35"
    }
  ],
  "metadata": {
    "kernelspec": {
      "name": "python3",
      "language": "python",
      "display_name": "Python 3"
    },
    "language_info": {
      "name": "python",
      "version": "3.6.9",
      "mimetype": "text/x-python",
      "codemirror_mode": {
        "name": "ipython",
        "version": 3
      },
      "pygments_lexer": "ipython3",
      "nbconvert_exporter": "python",
      "file_extension": ".py"
    },
    "kernel_info": {
      "name": "python3"
    },
    "nteract": {
      "version": "nteract-front-end@1.0.0"
    }
  },
  "nbformat": 4,
  "nbformat_minor": 5
}